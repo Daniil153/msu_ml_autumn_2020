{
 "cells": [
  {
   "cell_type": "markdown",
   "metadata": {},
   "source": [
    "## **Общая информация**\n",
    "\n",
    "**Срок сдачи:** 21 октября 2020, 08:30 \n",
    "\n",
    "**Штраф за опоздание:** по 1 баллу за 24 часа задержки. Через 5 дней домашнее задание сгорает.\n",
    "\n",
    "При отправлении ДЗ указывайте фамилию в названии файла\n",
    "Присылать ДЗ необходимо в виде ссылки на свой github репозиторий на почту ml1.sphere@mail.ru с указанием темы в следующем формате:\n",
    "\n",
    "[ML0220, Задание 1] Фамилия Имя.\n",
    "\n",
    "Используйте данный Ipython Notebook при оформлении домашнего задания."
   ]
  },
  {
   "cell_type": "markdown",
   "metadata": {},
   "source": [
    "\n",
    "**Штрафные баллы:**\n",
    "\n",
    "1. Отсутствие фамилии в имени скрипта (скрипт должен называться по аналогии со stroykova_hw1.ipynb) -0.5 баллов\n",
    "2. Все строчки должны быть выполнены. Нужно, чтобы output команды можно было увидеть уже в git'е. В противном случае -0.5 баллов\n"
   ]
  },
  {
   "cell_type": "code",
   "execution_count": 1,
   "metadata": {},
   "outputs": [],
   "source": [
    "\n",
    "import numpy as np\n",
    "import matplotlib.pyplot as plt\n",
    "\n",
    "import seaborn as sns\n",
    "from sklearn import datasets\n",
    "from sklearn.base import BaseEstimator\n",
    "from sklearn.datasets import fetch_openml, fetch_20newsgroups\n",
    "\n",
    "from sklearn.model_selection import train_test_split\n",
    "from sklearn.neighbors import KNeighborsClassifier\n",
    "from sklearn.metrics import accuracy_score\n",
    "\n",
    "import sklearn\n",
    "import scipy"
   ]
  },
  {
   "cell_type": "markdown",
   "metadata": {},
   "source": [
    "##### Задание 1 (1 балл)\n",
    "Реализовать KNN в классе MyKNeighborsClassifier (обязательное условие: точность не ниже sklearn реализации)\n",
    "Разберитесь самостоятельно, какая мера расстояния используется в KNeighborsClassifier дефолтно и реализуйте свой алгоритм именно с этой мерой. \n",
    "Для подсчета расстояний можно использовать функции [отсюда](https://docs.scipy.org/doc/scipy/reference/spatial.distance.html)"
   ]
  },
  {
   "cell_type": "code",
   "execution_count": 2,
   "metadata": {},
   "outputs": [],
   "source": [
    "class MyKNeighborsClassifier(BaseEstimator):\n",
    "    \n",
    "    def __init__(self, n_neighbors, algorithm='brute', dist='minkowski'):\n",
    "        self.n_neighbors = n_neighbors\n",
    "        self.algorithm = algorithm\n",
    "        self.dist = dist\n",
    "    \n",
    "    def fit(self, X, y):\n",
    "        self.X = X\n",
    "        self.y = y\n",
    "    \n",
    "    def predict(self, X):\n",
    "        \n",
    "        if self.algorithm == 'brute': \n",
    "            #dists = scipy.spatial.distance.cdist(X, self.X, metric=self.dist)\n",
    "#строчка вверху, если нельзя использовать строчку ниже. Разницы в том, что строчка ниже поддерживает src матрицы\n",
    "#тогда можно не сокращать кол-во признаков(иначе падает по памяти занятой). \n",
    "#А еще верхняя функция сильно медленнее считает, поэтому остановимся на нижней, но если поменять - программа также \n",
    "#будет работать(и скор примерно одинаковый), просто медленнее\n",
    "            dists = sklearn.metrics.pairwise.pairwise_distances(X, self.X, metric=self.dist)\n",
    "            temp = np.argpartition(dists, self.n_neighbors, axis=1)[:,:self.n_neighbors]\n",
    "            temp2 = self.y[temp]\n",
    "            ans = [np.argmax(np.bincount(war)) for war in temp2]\n",
    "        if self.algorithm == 'kd_tree':\n",
    "            tree = sklearn.neighbors.KDTree(self.X)\n",
    "            _, temp = tree.query(X, self.n_neighbors)\n",
    "            temp2 = self.y[temp]\n",
    "            ans = [np.argmax(np.bincount(war)) for war in temp2]\n",
    "            \n",
    "        return ans\n",
    "    "
   ]
  },
  {
   "cell_type": "markdown",
   "metadata": {},
   "source": [
    "**IRIS**\n",
    "\n",
    "В библиотеке scikit-learn есть несколько датасетов из коробки. Один из них [Ирисы Фишера](https://ru.wikipedia.org/wiki/%D0%98%D1%80%D0%B8%D1%81%D1%8B_%D0%A4%D0%B8%D1%88%D0%B5%D1%80%D0%B0)"
   ]
  },
  {
   "cell_type": "code",
   "execution_count": 3,
   "metadata": {},
   "outputs": [],
   "source": [
    "iris = datasets.load_iris()"
   ]
  },
  {
   "cell_type": "code",
   "execution_count": 4,
   "metadata": {},
   "outputs": [],
   "source": [
    "X_train, X_test, y_train, y_test = train_test_split(iris.data, iris.target, test_size=0.1, stratify=iris.target)"
   ]
  },
  {
   "cell_type": "code",
   "execution_count": 5,
   "metadata": {},
   "outputs": [],
   "source": [
    "clf = KNeighborsClassifier(n_neighbors=2, algorithm='brute')\n",
    "my_clf = MyKNeighborsClassifier(n_neighbors=2, algorithm='brute')"
   ]
  },
  {
   "cell_type": "code",
   "execution_count": 6,
   "metadata": {},
   "outputs": [],
   "source": [
    "clf.fit(X_train, y_train)\n",
    "my_clf.fit(X_train, y_train)"
   ]
  },
  {
   "cell_type": "code",
   "execution_count": 7,
   "metadata": {},
   "outputs": [],
   "source": [
    "sklearn_pred = clf.predict(X_test)\n",
    "my_clf_pred = my_clf.predict(X_test)\n",
    "assert abs( accuracy_score(y_test, my_clf_pred) -  accuracy_score(y_test, sklearn_pred ) )<0.005, \"Score must be simillar\""
   ]
  },
  {
   "cell_type": "markdown",
   "metadata": {},
   "source": [
    "**Задание 2 (0.5 балла)**\n",
    "\n",
    "Давайте попробуем добиться скорости работы на fit, predict сравнимой со sklearn для iris. Допускается замедление не более чем в 2 раза. \n",
    "Для этого используем numpy. "
   ]
  },
  {
   "cell_type": "code",
   "execution_count": 8,
   "metadata": {},
   "outputs": [
    {
     "name": "stdout",
     "output_type": "stream",
     "text": [
      "CPU times: user 0 ns, sys: 2.23 ms, total: 2.23 ms\n",
      "Wall time: 1.59 ms\n"
     ]
    },
    {
     "data": {
      "text/plain": [
       "KNeighborsClassifier(algorithm='brute', n_neighbors=2)"
      ]
     },
     "execution_count": 8,
     "metadata": {},
     "output_type": "execute_result"
    }
   ],
   "source": [
    "%time clf.fit(X_train, y_train)"
   ]
  },
  {
   "cell_type": "code",
   "execution_count": 9,
   "metadata": {},
   "outputs": [
    {
     "name": "stdout",
     "output_type": "stream",
     "text": [
      "CPU times: user 9 µs, sys: 1 µs, total: 10 µs\n",
      "Wall time: 15.3 µs\n"
     ]
    }
   ],
   "source": [
    "%time my_clf.fit(X_train, y_train)"
   ]
  },
  {
   "cell_type": "code",
   "execution_count": 10,
   "metadata": {},
   "outputs": [
    {
     "name": "stdout",
     "output_type": "stream",
     "text": [
      "CPU times: user 3.21 ms, sys: 191 µs, total: 3.4 ms\n",
      "Wall time: 2.57 ms\n"
     ]
    },
    {
     "data": {
      "text/plain": [
       "array([0, 2, 2, 0, 1, 2, 0, 1, 0, 1, 2, 1, 1, 2, 0])"
      ]
     },
     "execution_count": 10,
     "metadata": {},
     "output_type": "execute_result"
    }
   ],
   "source": [
    "%time clf.predict(X_test)"
   ]
  },
  {
   "cell_type": "code",
   "execution_count": 11,
   "metadata": {},
   "outputs": [
    {
     "name": "stdout",
     "output_type": "stream",
     "text": [
      "CPU times: user 3.36 ms, sys: 347 µs, total: 3.71 ms\n",
      "Wall time: 2.1 ms\n"
     ]
    },
    {
     "data": {
      "text/plain": [
       "[0, 2, 2, 0, 1, 2, 0, 1, 0, 1, 2, 1, 1, 2, 0]"
      ]
     },
     "execution_count": 11,
     "metadata": {},
     "output_type": "execute_result"
    }
   ],
   "source": [
    "%time my_clf.predict(X_test)"
   ]
  },
  {
   "cell_type": "markdown",
   "metadata": {},
   "source": [
    "###### Задание 3 (1 балл)\n",
    "Добавьте algorithm='kd_tree' в реализацию KNN (использовать KDTree из sklearn.neighbors). Необходимо добиться скорости работы на fit,  predict сравнимой со sklearn для iris. Допускается замедление не более чем в 2 раза. \n",
    "Для этого используем numpy. Точность не должна уступать значению KNN из sklearn. "
   ]
  },
  {
   "cell_type": "code",
   "execution_count": 12,
   "metadata": {},
   "outputs": [],
   "source": [
    "clf = KNeighborsClassifier(n_neighbors=2, algorithm='kd_tree')\n",
    "my_clf = MyKNeighborsClassifier(n_neighbors=2, algorithm='kd_tree')"
   ]
  },
  {
   "cell_type": "code",
   "execution_count": 13,
   "metadata": {},
   "outputs": [],
   "source": [
    "X_train, X_test, y_train, y_test = train_test_split(iris.data, iris.target, test_size=0.1, stratify=iris.target)"
   ]
  },
  {
   "cell_type": "code",
   "execution_count": 14,
   "metadata": {},
   "outputs": [
    {
     "name": "stdout",
     "output_type": "stream",
     "text": [
      "CPU times: user 4.65 ms, sys: 54 µs, total: 4.7 ms\n",
      "Wall time: 3.05 ms\n"
     ]
    },
    {
     "data": {
      "text/plain": [
       "KNeighborsClassifier(algorithm='kd_tree', n_neighbors=2)"
      ]
     },
     "execution_count": 14,
     "metadata": {},
     "output_type": "execute_result"
    }
   ],
   "source": [
    "%time clf.fit(X_train, y_train)"
   ]
  },
  {
   "cell_type": "code",
   "execution_count": 15,
   "metadata": {},
   "outputs": [
    {
     "name": "stdout",
     "output_type": "stream",
     "text": [
      "CPU times: user 14 µs, sys: 2 µs, total: 16 µs\n",
      "Wall time: 22.9 µs\n"
     ]
    }
   ],
   "source": [
    "%time my_clf.fit(X_train, y_train)"
   ]
  },
  {
   "cell_type": "code",
   "execution_count": 16,
   "metadata": {},
   "outputs": [
    {
     "name": "stdout",
     "output_type": "stream",
     "text": [
      "CPU times: user 6.42 ms, sys: 0 ns, total: 6.42 ms\n",
      "Wall time: 4.44 ms\n"
     ]
    },
    {
     "data": {
      "text/plain": [
       "array([0, 1, 0, 1, 1, 2, 2, 2, 1, 1, 0, 1, 0, 0, 2])"
      ]
     },
     "execution_count": 16,
     "metadata": {},
     "output_type": "execute_result"
    }
   ],
   "source": [
    "%time clf.predict(X_test)"
   ]
  },
  {
   "cell_type": "code",
   "execution_count": 17,
   "metadata": {},
   "outputs": [
    {
     "name": "stdout",
     "output_type": "stream",
     "text": [
      "CPU times: user 562 µs, sys: 3.73 ms, total: 4.29 ms\n",
      "Wall time: 2.74 ms\n"
     ]
    },
    {
     "data": {
      "text/plain": [
       "[0, 1, 0, 1, 1, 2, 2, 2, 1, 1, 0, 1, 0, 0, 2]"
      ]
     },
     "execution_count": 17,
     "metadata": {},
     "output_type": "execute_result"
    }
   ],
   "source": [
    "%time my_clf.predict(X_test)"
   ]
  },
  {
   "cell_type": "code",
   "execution_count": 114,
   "metadata": {},
   "outputs": [],
   "source": [
    "sklearn_pred = clf.predict(X_test)\n",
    "my_clf_pred = my_clf.predict(X_test)\n",
    "assert abs( accuracy_score(y_test, my_clf_pred) -  accuracy_score(y_test, sklearn_pred ) )<0.005, \"Score must be simillar\""
   ]
  },
  {
   "cell_type": "markdown",
   "metadata": {},
   "source": [
    "**Задание 4 (2.5 балла)**\n",
    "\n",
    "Рассмотрим новый датасет 20 newsgroups"
   ]
  },
  {
   "cell_type": "code",
   "execution_count": 115,
   "metadata": {},
   "outputs": [],
   "source": [
    "newsgroups = fetch_20newsgroups(subset='train',remove=['headers','footers', 'quotes'])"
   ]
  },
  {
   "cell_type": "code",
   "execution_count": 116,
   "metadata": {},
   "outputs": [],
   "source": [
    "data = newsgroups['data']\n",
    "target = newsgroups['target']"
   ]
  },
  {
   "cell_type": "markdown",
   "metadata": {},
   "source": [
    "Преобразуйте текстовые данные из data с помощью [CountVectorizer](https://scikit-learn.org/stable/modules/generated/sklearn.feature_extraction.text.CountVectorizer.html). Словарь можно ограничить по частотности."
   ]
  },
  {
   "cell_type": "code",
   "execution_count": 207,
   "metadata": {},
   "outputs": [],
   "source": [
    "from sklearn.feature_extraction.text import CountVectorizer\n",
    "vectorizer = CountVectorizer(max_features=10000, max_df=0.1)\n",
    "X = vectorizer.fit_transform(data)\n",
    "X = X.toarray()"
   ]
  },
  {
   "cell_type": "code",
   "execution_count": 7,
   "metadata": {},
   "outputs": [],
   "source": [
    "    #Вариант вместо предыдущей ячейки, если использовать в KNN pairwise, который поддерживает crs матрицы:\n",
    "    #Точность у меня поулчалась примерно такая же\n",
    "#vectorizer = CountVectorizer(max_df=0.1)\n",
    "#X = vectorizer.fit_transform(data)\n",
    "\n"
   ]
  },
  {
   "cell_type": "markdown",
   "metadata": {},
   "source": [
    "*Так мы получили векторное представление наших текстов. Значит можно приступать к задаче обучения модели*"
   ]
  },
  {
   "cell_type": "markdown",
   "metadata": {},
   "source": [
    "Реализуйте разбиение выборки для кросс-валидации на 3 фолдах. Разрешено использовать sklearn.cross_validation"
   ]
  },
  {
   "cell_type": "code",
   "execution_count": 149,
   "metadata": {},
   "outputs": [],
   "source": [
    "from sklearn.model_selection import KFold\n",
    "from sklearn.model_selection import cross_val_score\n",
    "kf = KFold(n_splits = 3, shuffle = False)"
   ]
  },
  {
   "cell_type": "markdown",
   "metadata": {},
   "source": [
    "Напишите метод, позволяющий найти оптимальное количество ближайших соседей(дающее максимальную точность в среднем на валидации на 3 фолдах).\n",
    "Постройте график зависимости средней точности от количества соседей. Можно рассмотреть число соседей от 1 до 10."
   ]
  },
  {
   "cell_type": "markdown",
   "metadata": {},
   "source": [
    "Как изменится качество на валидации, если:\n",
    "\n",
    "1. Используется косинусная метрика вместо евклидовой.\n",
    "2. К текстам применяется TfIdf векторизацию( sklearn.feature_extraction.text.TfidfVectorizer)\n",
    "\n",
    "Сравните модели, выберите лучшую."
   ]
  },
  {
   "cell_type": "markdown",
   "metadata": {},
   "source": [
    "### Я использовал euclidean, потому что она счиатется сильно быстрее чем minkowski, которая в оригинале KNN используется + вы сами выше в задании пишете про евклидовую метрику.\n"
   ]
  },
  {
   "cell_type": "code",
   "execution_count": 208,
   "metadata": {
    "scrolled": true
   },
   "outputs": [
    {
     "name": "stdout",
     "output_type": "stream",
     "text": [
      "[0.2779734300922961, 0.22777055535074045, 0.2130101360506532, 0.207618530994898, 0.19966359706487313, 0.19409546201926686, 0.1875552286012985, 0.1834009973042209, 0.18110306098737375, 0.1743856882897977, 0.16864060143835502, 0.16899429414203518, 0.1667844001950102, 0.16528165731313152, 0.16475148148804306, 0.1609508725919814, 0.15812261984471734, 0.1572387278817273, 0.15458712229542135, 0.15502934948757324]\n",
      "CPU times: user 18min 57s, sys: 13.7 s, total: 19min 10s\n",
      "Wall time: 5min 33s\n"
     ]
    }
   ],
   "source": [
    "%%time\n",
    "vals = []\n",
    "for i in range(1,101,5):\n",
    "    my_clf = MyKNeighborsClassifier(n_neighbors=i, algorithm='brute', dist='euclidean')\n",
    "    score = []\n",
    "    count = 0\n",
    "    for train_index, test_index in kf.split(X):\n",
    "        X_train, X_test = X[train_index], X[test_index]\n",
    "        y_train, y_test = target[train_index], target[test_index]\n",
    "        my_clf.fit(X_train, y_train)\n",
    "        my_clf_pred = my_clf.predict(X_test)\n",
    "        score.append(accuracy_score(y_test, my_clf_pred))\n",
    "    vals.append(np.array(score).mean())\n",
    "print(vals)\n"
   ]
  },
  {
   "cell_type": "code",
   "execution_count": 209,
   "metadata": {
    "scrolled": true
   },
   "outputs": [
    {
     "data": {
      "text/plain": [
       "<function matplotlib.pyplot.show(close=None, block=None)>"
      ]
     },
     "execution_count": 209,
     "metadata": {},
     "output_type": "execute_result"
    },
    {
     "data": {
      "image/png": "[encoded data removed]",
      "text/plain": [
       "<Figure size 432x288 with 1 Axes>"
      ]
     },
     "metadata": {
      "needs_background": "light"
     },
     "output_type": "display_data"
    }
   ],
   "source": [
    "plt.plot(range(1, 101, 5), vals, 'b')\n",
    "plt.title('euclidean')\n",
    "plt.ylabel('Средний score по трем фолдам')\n",
    "plt.xlabel('Количество соседей')\n",
    "plt.show\n",
    "#1 наилучший результат"
   ]
  },
  {
   "cell_type": "code",
   "execution_count": 210,
   "metadata": {
    "scrolled": true
   },
   "outputs": [
    {
     "name": "stdout",
     "output_type": "stream",
     "text": [
      "[0.5290793144346648, 0.5540033664665103, 0.5653169398768804, 0.5785751552821813, 0.5847625630626615, 0.5890931368758189, 0.5929824911683449, 0.5945730889462747, 0.5989922909847895, 0.5969597472253648, 0.597489852747789, 0.5979317752950627, 0.5996992780103859, 0.5989041548780816, 0.5982852570907502, 0.5982854679987428, 0.5982852102223073, 0.5959872739054601, 0.5973131118499453, 0.5974901573926673]\n"
     ]
    }
   ],
   "source": [
    "vals2 = []\n",
    "for i in range(1,101, 5):\n",
    "    my_clf = MyKNeighborsClassifier(n_neighbors=i, algorithm='brute', dist='cosine')\n",
    "    score = []\n",
    "    count = 0\n",
    "    for train_index, test_index in kf.split(X):\n",
    "        X_train, X_test = X[train_index], X[test_index]\n",
    "        y_train, y_test = target[train_index], target[test_index]\n",
    "        my_clf.fit(X_train, y_train)\n",
    "        my_clf_pred = my_clf.predict(X_test)\n",
    "        score.append(accuracy_score(y_test, my_clf_pred))\n",
    "    vals2.append(np.array(score).mean())\n",
    "print(vals2)"
   ]
  },
  {
   "cell_type": "code",
   "execution_count": 211,
   "metadata": {
    "scrolled": true
   },
   "outputs": [
    {
     "data": {
      "text/plain": [
       "<function matplotlib.pyplot.show(close=None, block=None)>"
      ]
     },
     "execution_count": 211,
     "metadata": {},
     "output_type": "execute_result"
    },
    {
     "data": {
      "image/png": "[encoded data removed]",
      "text/plain": [
       "<Figure size 432x288 with 1 Axes>"
      ]
     },
     "metadata": {
      "needs_background": "light"
     },
     "output_type": "display_data"
    }
   ],
   "source": [
    "plt.plot(range(1, 101, 5), vals2, 'b')\n",
    "plt.title('cosine')\n",
    "plt.ylabel('Средний score по трем фолдам'),\n",
    "plt.xlabel('Количество соседей')\n",
    "plt.show\n",
    "#примерно 60 наилучший результат"
   ]
  },
  {
   "cell_type": "code",
   "execution_count": 200,
   "metadata": {},
   "outputs": [],
   "source": [
    "from sklearn.feature_extraction.text import TfidfVectorizer\n",
    "vectorizer = TfidfVectorizer(max_features=10000, max_df=0.1)\n",
    "X1 = vectorizer.fit_transform(data)"
   ]
  },
  {
   "cell_type": "code",
   "execution_count": 201,
   "metadata": {},
   "outputs": [],
   "source": [
    "X1 = X1.toarray()"
   ]
  },
  {
   "cell_type": "code",
   "execution_count": 180,
   "metadata": {},
   "outputs": [
    {
     "name": "stdout",
     "output_type": "stream",
     "text": [
      "[0.5867953645985217, 0.6192332247766461, 0.644599996119293, 0.6550294432244589, 0.6582997825585464, 0.6597140378203962, 0.6617465815798208, 0.6604213763593137, 0.661747167435356, 0.663603204639151, 0.6639562411846317, 0.6620121616110146, 0.6604211185828782, 0.6633379292528354, 0.6621004148888295, 0.6613051042827539, 0.659360345116716, 0.6582996888216607, 0.6586534049595624, 0.657150568340798]\n"
     ]
    }
   ],
   "source": [
    "vals3 = []\n",
    "for i in range(1,101,5):\n",
    "    my_clf = MyKNeighborsClassifier(n_neighbors=i, algorithm='brute', dist='cosine')\n",
    "    score = []\n",
    "    count = 0\n",
    "    for train_index, test_index in kf.split(X1):\n",
    "        X_train, X_test = X1[train_index], X1[test_index]\n",
    "        y_train, y_test = target[train_index], target[test_index]\n",
    "        my_clf.fit(X_train, y_train)\n",
    "        my_clf_pred = my_clf.predict(X_test)\n",
    "        score.append(accuracy_score(y_test, my_clf_pred))\n",
    "    vals3.append(np.array(score).mean())\n",
    "print(vals3)"
   ]
  },
  {
   "cell_type": "code",
   "execution_count": 228,
   "metadata": {},
   "outputs": [
    {
     "data": {
      "text/plain": [
       "<function matplotlib.pyplot.show(close=None, block=None)>"
      ]
     },
     "execution_count": 228,
     "metadata": {},
     "output_type": "execute_result"
    },
    {
     "data": {
      "image/png": "[encoded data removed]",
      "text/plain": [
       "<Figure size 432x288 with 1 Axes>"
      ]
     },
     "metadata": {
      "needs_background": "light"
     },
     "output_type": "display_data"
    }
   ],
   "source": [
    "plt.plot(range(1, 101,5), vals3, 'b')\n",
    "plt.title('cosine + tfidf')\n",
    "plt.ylabel('Средний score по трем фолдам')\n",
    "plt.xlabel('Количество соседей')\n",
    "plt.show\n",
    "#51 лучшее"
   ]
  },
  {
   "cell_type": "code",
   "execution_count": 182,
   "metadata": {},
   "outputs": [
    {
     "name": "stdout",
     "output_type": "stream",
     "text": [
      "[0.16059757827006516, 0.09916928965906864, 0.08608793232271848, 0.08113839041956535, 0.07689609331844417, 0.07424451116635965, 0.0715929524484965, 0.06690852189210904, 0.06461053870681904, 0.06487543914559203, 0.06284245013596067, 0.06452167613924764, 0.06584756095217553, 0.065317150784873, 0.06142805426878245, 0.06036784322393395, 0.062312321179315004, 0.0612517117527026, 0.06036770261860552, 0.060102614706061284]\n"
     ]
    }
   ],
   "source": [
    "vals4 = []\n",
    "for i in range(1,101,5):\n",
    "    my_clf = MyKNeighborsClassifier(n_neighbors=i, algorithm='brute', dist='euclidean')\n",
    "    score = []\n",
    "    count = 0\n",
    "    for train_index, test_index in kf.split(X1):\n",
    "        X_train, X_test = X1[train_index], X1[test_index]\n",
    "        y_train, y_test = target[train_index], target[test_index]\n",
    "        my_clf.fit(X_train, y_train)\n",
    "        my_clf_pred = my_clf.predict(X_test)\n",
    "        score.append(accuracy_score(y_test, my_clf_pred))\n",
    "    vals4.append(np.array(score).mean())\n",
    "print(vals4)"
   ]
  },
  {
   "cell_type": "code",
   "execution_count": 183,
   "metadata": {},
   "outputs": [
    {
     "data": {
      "text/plain": [
       "<function matplotlib.pyplot.show(close=None, block=None)>"
      ]
     },
     "execution_count": 183,
     "metadata": {},
     "output_type": "execute_result"
    },
    {
     "data": {
      "image/png": "[encoded data removed]",
      "text/plain": [
       "<Figure size 432x288 with 1 Axes>"
      ]
     },
     "metadata": {
      "needs_background": "light"
     },
     "output_type": "display_data"
    }
   ],
   "source": [
    "plt.plot(range(1, 101,5), vals4, 'b')\n",
    "plt.title('euclidean + tfidf')\n",
    "plt.ylabel('Средний score по трем фолдам')\n",
    "plt.xlabel('Количество соседей')\n",
    "plt.show"
   ]
  },
  {
   "cell_type": "markdown",
   "metadata": {},
   "source": [
    "Загрузим  теперь test  часть нашей выборки и преобразуем её аналогично с train частью. Не забудьте, что наборы слов в train и test части могут отличаться."
   ]
  },
  {
   "cell_type": "code",
   "execution_count": 202,
   "metadata": {},
   "outputs": [],
   "source": [
    "newsgroups = fetch_20newsgroups(subset='test',remove=['headers','footers', 'quotes'])"
   ]
  },
  {
   "cell_type": "markdown",
   "metadata": {},
   "source": [
    "Оценим точность вашей лучшей модели на test части датасета. Отличается ли оно от кросс-валидации? Попробуйте сделать выводы, почему отличается качество."
   ]
  },
  {
   "cell_type": "code",
   "execution_count": 229,
   "metadata": {},
   "outputs": [],
   "source": [
    "data_ans = newsgroups['data']\n",
    "target_ans = newsgroups['target']\n",
    "X2 = vectorizer.transform(data_ans)"
   ]
  },
  {
   "cell_type": "code",
   "execution_count": 230,
   "metadata": {},
   "outputs": [],
   "source": [
    "X2 = X2.toarray()"
   ]
  },
  {
   "cell_type": "code",
   "execution_count": 233,
   "metadata": {},
   "outputs": [],
   "source": [
    "my_clf = MyKNeighborsClassifier(n_neighbors=51, algorithm='brute', dist='cosine')\n",
    "my_clf.fit(X1, target)\n",
    "my_clf_pred = my_clf.predict(X2)\n",
    "ansss = accuracy_score(target_ans, my_clf_pred)"
   ]
  },
  {
   "cell_type": "code",
   "execution_count": 234,
   "metadata": {},
   "outputs": [
    {
     "name": "stdout",
     "output_type": "stream",
     "text": [
      "0.5908125331917153\n"
     ]
    }
   ],
   "source": [
    "print(ansss)"
   ]
  },
  {
   "cell_type": "markdown",
   "metadata": {},
   "source": [
    "### Скор стал хуже, но не очень сильно. Стало хуже потому что я кол-во соседей и кол-во фич подбирал под трейн данные, а нам дается тест дата. Поэтому некоторые гиперпарамтеры подобраны под трейн, а не тест."
   ]
  },
  {
   "cell_type": "code",
   "execution_count": null,
   "metadata": {},
   "outputs": [],
   "source": []
  }
 ],
 "metadata": {
  "kernelspec": {
   "display_name": "Python 3",
   "language": "python",
   "name": "python3"
  },
  "language_info": {
   "codemirror_mode": {
    "name": "ipython",
    "version": 3
   },
   "file_extension": ".py",
   "mimetype": "text/x-python",
   "name": "python",
   "nbconvert_exporter": "python",
   "pygments_lexer": "ipython3",
   "version": "3.8.3"
  }
 },
 "nbformat": 4,
 "nbformat_minor": 2
}
